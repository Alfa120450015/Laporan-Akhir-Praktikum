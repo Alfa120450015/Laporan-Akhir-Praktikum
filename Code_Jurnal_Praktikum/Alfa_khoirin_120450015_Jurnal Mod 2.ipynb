{
 "cells": [
  {
   "cell_type": "markdown",
   "id": "795ddcdf",
   "metadata": {},
   "source": [
    "Kerjakan seluruh soal berikut dengan menggunakan higher order function map,filter dan reduce!"
   ]
  },
  {
   "cell_type": "markdown",
   "id": "09b20c99",
   "metadata": {},
   "source": [
    "1. Buatlah sebuah fungsi bernama ulangi_NIM, ulangi memiliki input sebuah bilangan skalar a, dan mengeluarkan vektor 1xn dengan seluruh elemen nya adalah a !"
   ]
  },
  {
   "cell_type": "code",
   "execution_count": 1,
   "id": "1b329005",
   "metadata": {},
   "outputs": [
    {
     "data": {
      "text/plain": [
       "[15, 15, 15, 15, 15, 15, 15, 15, 15, 15, 15, 15, 15, 15, 15]"
      ]
     },
     "execution_count": 1,
     "metadata": {},
     "output_type": "execute_result"
    }
   ],
   "source": [
    "a = 15\n",
    "\n",
    "def ulangi_015(a):\n",
    "    return list(map(lambda x: a, range(a)))\n",
    "    \n",
    "ulangi_015(a)"
   ]
  },
  {
   "cell_type": "markdown",
   "id": "d72a3aed",
   "metadata": {},
   "source": [
    "2. Buatlah deret bilangan sebagai berikut dengan input n sebagai panjang deret: 1/2,-1/4,1/8,....,(-1)^n1/2^n+1"
   ]
  },
  {
   "cell_type": "code",
   "execution_count": 9,
   "id": "1c1dbb48",
   "metadata": {},
   "outputs": [
    {
     "name": "stdout",
     "output_type": "stream",
     "text": [
      "Masukkan jumlah bilangan deret : 15\n",
      "[0.5, -0.25, 0.125, -0.0625, 0.03125, -0.015625, 0.0078125, -0.00390625, 0.001953125, -0.0009765625, 0.00048828125, -0.000244140625, 0.0001220703125, -6.103515625e-05, 3.0517578125e-05]\n"
     ]
    }
   ],
   "source": [
    "n = int(input(\"Masukkan jumlah bilangan deret : \"))\n",
    "a = list(range(1,n+1))\n",
    "\n",
    "def deret(n):\n",
    "    return((-1)**(n+1)) * (1/(2**n))\n",
    "print(list(map(deret,a)))"
   ]
  },
  {
   "cell_type": "markdown",
   "id": "7a855044",
   "metadata": {},
   "source": [
    "3. Jumlahkan deret bilangan tersebut!"
   ]
  },
  {
   "cell_type": "code",
   "execution_count": 10,
   "id": "3827c9a9",
   "metadata": {},
   "outputs": [
    {
     "name": "stdout",
     "output_type": "stream",
     "text": [
      "a: 0.5 , b: -0.25 -> a+b: 0.25\n",
      "a: 0.25 , b: 0.125 -> a+b: 0.375\n",
      "a: 0.375 , b: -0.0625 -> a+b: 0.3125\n",
      "a: 0.3125 , b: 0.03125 -> a+b: 0.34375\n",
      "a: 0.34375 , b: -0.015625 -> a+b: 0.328125\n",
      "a: 0.328125 , b: 0.0078125 -> a+b: 0.3359375\n",
      "a: 0.3359375 , b: -0.00390625 -> a+b: 0.33203125\n",
      "a: 0.33203125 , b: 0.001953125 -> a+b: 0.333984375\n",
      "a: 0.333984375 , b: -0.0009765625 -> a+b: 0.3330078125\n",
      "a: 0.3330078125 , b: 0.00048828125 -> a+b: 0.33349609375\n",
      "a: 0.33349609375 , b: -0.000244140625 -> a+b: 0.333251953125\n",
      "a: 0.333251953125 , b: 0.0001220703125 -> a+b: 0.3333740234375\n",
      "a: 0.3333740234375 , b: -6.103515625e-05 -> a+b: 0.33331298828125\n",
      "a: 0.33331298828125 , b: 3.0517578125e-05 -> a+b: 0.333343505859375\n",
      "0.333343505859375\n"
     ]
    }
   ],
   "source": [
    "from functools import reduce as r\n",
    "def add(a,b):\n",
    "    res = a+b\n",
    "    print('a:',a,', b:',b, '-> a+b:',res)\n",
    "    return res\n",
    "print(r( add, list(map(deret,a)) ))"
   ]
  },
  {
   "cell_type": "markdown",
   "id": "1bf8d3ee",
   "metadata": {},
   "source": [
    "4. Sebuah DNA dimodelkan dalam sebuah string menjadi sequence TCGA dan disimpan ke dalam data :\n",
    "https://drive.google.com/file/d/18C1ylsTXrY9pglqqlhijoS8LYmcxdIjM/view?usp=sharing hitunglah jumlah kemunculan pola berikut pada data tersebut:"
   ]
  },
  {
   "cell_type": "code",
   "execution_count": 11,
   "id": "12882628",
   "metadata": {},
   "outputs": [
    {
     "data": {
      "text/plain": [
       "'TGTCTTCCGGCTGAGCGGTTCCTAACCAGCAGACTGATACTGGTCGAATATCGACGGGCAAGAGCCCTGGGATTGATGCGTTTCACCATGCGCGTCTCAGTGCAGGCAGGAATGCAGAGCTTACTTCAAACTAGTTACTGGCAAAAAATACAAATTTTTTCGATCGACCTTGAGTTTATTCATTACCGCACAGTCTTTTACCGCACCTGTTACCGCACATCCGTAAGTTTACCGCACGTTACCGCACTACCTCTCTATATTACCGCACTTCGTTTACCGCACGCTGAGGAACGGTTACCGCACTTACCGCACCACAAGGTGCGTGCTCTGTTATTACCGCACCACCATTACCGCACGCACTTTTATTACCGCACCAGGGCACAGCCACGTAGGGTAGCGTCGTTCTCACTGTATTGCGGCGACGGTCGTAATTTACCGCATTACCGCACCACTCGTTAGCTTACCGCACCTAGGGTTGTTACCGCACGACTTACCGCACAGCCGTTACCGCACGTGTTACTTGACGCTCTAACTCCCACTCATATCAGTCTTATTACCGCACACTGGGCTTACCGCACCCGCACCTTAAGTAGGCAGTTACCGCACGTATTACCGCACGTAATTACCGCACACCTGTAAAGGCAGGGTAAAGTACAGACTTACCGCTTACCGCACGGTTGCACCACGACAAATCTAACGTTAGGTACGTTACCGCACGGGAAATTACCGCACTCCAGGGTTTTACCGCACAGATATCCATTCGGGAATGTGACCCCTGGAGTGGAGTTGTGCGAAAGATACGGAGTTTTCAAGGGCACACCCAGCTATGTTATTAAGCGTTACAGTGGCCGCTGCATCATGTCAATGTTCAGGTCATTCTCTATCTTGCTATGTACGAACCCTCGTTAAGAGGGAGTAAGCGATCTTTTGACAAAATCGTATGCATGTAGGCGAGGCAATGCCGATTACATTGAACGGCGGGACTTTTCGTATGAGACACCGCGGTTGAAATATTTTTTTATGCAAGAGCGGGATTGGGCGGAAGGAGACTTAACGCAGTGCCTAGCACTGTTAACTGCGGCATGGCCGGATGGACTACCTATTTTGCAGCTCCAGCGTTTGAGTTCCACGTACTGACGGAACAGTCCCGAGATAGGCCATGTGGTCGATCCCAGTGAGAAATGAGACTCGAGATGCCGGTACCGGTAGCATCACCACATTGCTCCAGTATGATATCAGTCTTCACTGTCAGCAATTAATGCAGCGATCTTGAAGAGAGTTATTCATCTCTTATCACCTGACAATAAATCAATTTACCAGTCAAATTCTCTTTAACATCGTGCCGAACTGCGATGCGTCGTAGTCTAGATTAGGATATATTTTCTTAGCTGGCTTCGATGATTGGCTGTACGCTAAGGTGATTGAATTTCGATCTGCATTGGAGCTGTACCCCACCTTGCATGGCATTGACAGCCTAAAGCGTGAAGAATGCAATACAGCTGACAGAAAAATAACGGGCTCGATAACGTTCCAAGATTCTGACTTAACGACGGCTAGCGAGCGAGTCATAAATCCCGTCCACACCGGGCAATCGGGTCGGAGTGGAAAGGGCGGGATTTTATTATTACGTGACGCAGATCTCCGTGTCACTATACTCACATCCTCTCTGTAGATAAAGTTATACCAACCTCCATATTCTTCTTACGCTAAGTTCGGGCTATCCGAGTCTCGGCCCATAGCAGGAGCACTTTAAGGGAAGTCCTATTGCCGAATACAGTACGTTCCCCGCAATATGTTATACTCACCCAAATATGTTAATATGTTATATGTTAAAACGCAGTGTGGGAATATGTTAATATGTTATGTGAATATGTTAAAATATGTTAAAATATGTTAACGATGTTAGCCGTGATAAATATGTTATTAACGGCGTGCGTTAATATGTTAGCGACGACTGGGGGTCAATATGTTAGCCAACTTCCTCAATATGTTAACCGGTTAATATGTTAGTTAAGATCAATAAATATGTTAGCTACGTAGACAATAAAAGCATAAGCAATATGTTATAATATGTTAGACAGTTCTCTAACCGATAATATGTTAAGGCATACTTAACCAGCGAATGACAGAAATATGTTAATATGTTAAATAAATATGTTAGATAATATGTTACGATATTACCCGCACATTGCTCCGAATATGAATATGTTAAGGTGGTTCTCCGTATTTAATATTGTGAGAGATAGCTTGTGAGAGATGTTGTTGTGAGAGAGCTGTGAGAGCTTTGCGAGCCTTTAAATATTGTGAGAGTTATGTAGTCGGCCTGTGAGAGATGTGTGAGAGAGTTAAATATGTTAGTTAGCTGAGAGCTACGCTGTGAGAGGCGAATTGACGTAGTGCTTTTTGTTCTGTGAGAGATGTGTGAGAGTGTGAGAGCGCGTGTGAGTGTGAGAGTGATTGTGCATGGTCCAGTAAGATGTGAGAGTGTGAGAGTGATCTAACGCTATGTGTGAGAGAGGGTGTGAGAGGCTGCGTATGAAGCACAAATGTGAGAGTTGTGAGAGATACGTTAAGAGCCCGGAAGCTCGGCATCATAAGCTGAGCAGATTCAATGTGAGAGGGCGAGCCGACGGTAGGCTGTGAGAGTCATTATTGTGAGAGTCGCGTGGTGTGAGAGTCCCATTTTATGTGAGATGTGAGAGCTCTGGGGCTGTGATGTGAGAGAGTACGCCGAAGCGTGTGAGAGTCCTGTGAGAGATTCGGAGGTCTGGATGACATTGTGAGAGCCTGCTTACGCGACGTGATGAACGCGACCGACTAGCGACCGCCCACTACTACTCGCAGTTGGTCTAGAGGCATTGCTTTACTGAAATACGCAGGATGCTTATGACGCTCGCGCCAATACATCGCGCTCGCACTGTATGTCGCTTCACCTTAATCCTAAAGCTCAAATATAACGGAAAAAGAGAAATTAGGACGACCGAGGGTCGTCCTCCGGTGGTTTTCACGACTTCGCCAATGGCGTGCTGCGTCGAAATGTGCTCAAAGCCCCGTAAAGCTCAGACACCATGCAGGAATGGGAATGTGTACCCAGAGATCCCTAGTAAGAGAGATCCAAGACTTAAAGCCGTTCCGAGAGAGATCTAATCACTAGAGATCTTAACACCAATAGAGATCCTCTAAGAGATCAGTAGAGATCGCTTTTCAGAGATAGAGATCACTCACCGAGAGATCTTACAGTTTGATATGTCAGTTCGGTTAAAAGCAGAGATCGTCTGCAGAGATCGGTAGCGTAGAGATCCCGTGTCGTACAAAAACTTAGAGATCAGATCGCGCCTCGAACTGTACTTAGAGATCTACATTATCTAAGAGAGAGATCAGAGATCACAAGGCCACACACGACAAAGTTAGAGATCTACACACGATAGGTGGTGCCGAACCTGAGAGATCCGGGTTTTGAGAGAGATCAAGAGATAGAGATCGTTAGAGAAGAGATCTAGAGATCGCACGGGTTTTGGAGAGATCGTTCGGGTTTTGTCGGGAAGAGATTAATGCGGTGAGTTAATGCGGGTATAATGCGGCAGATAATGTAATGCGGTCTAATGTAATGCGGGAGATAATGCGGTGATGAAACTTAATGCGGCTAATGCGGTTAATGCGGTCGAACGCTAATGCGGAGCTAATGCGGGCGTAACATAATGTAATGCGGTTGTCAATATTGTTTTCAATATTAATATTCAATTACAATATTCAAACGCAATATTAAACGGCCGGTAATGCGGGGTCAATCAATATTTTCGTAATGCGGGGTTAATGCGGTTTTCAATATTATCGGTAATGCGGGAGCTGGCAATATTGGTTTTGGTAATGCGGTTTAATAATGCGGGGCGACAATATTGGGTAATGCGGATATTTATCAATATTGTGTTTCAATATTTAACACAATATTTGCCGTAGGTATGACCTAATTAATGCGGATATTAGGGGCCAATTAATGCGGATCGTAATGCGGGTCGGGCTTATAACAATTAATGCGGTCAATATTACTAATGCTAATGCGGCGGACTACAATATTTACAAAAGACTACCAATAATGCGGATAATGCGGTCAATAATGCGGAAGATAACGCGGCAATATTGCCCGACAATATTTGACTACACAAGACTACACAATATTCCGTTATTCTGTGCCAACGCCAGGTCAATGCGTCGAACCAATATTCTTGATTGTGATGCAGACTACACGACTACAATATTTACCCCCGGGACTACATATCCACGACTACAGGGCGAGACTACATAGGGACTACAGACTACAACAATTATGGTCACATTAACTCTGCCCGGCGGCTCTTCCCTAAATCTCACGTGATGGACTAGACTACACCGACTACAACATACTTTGCAACGACTACAGTACGTTAAGACTACAGGATTCAGACTACACTTGATTTCCTGACTACACTTCTGACAACCCGCACATTGCCCGCTAACTCTGATGGCCCCCAGAGACTACATACCATCGAGCGCGACTACAGGACTACAGCCGTAGACCCTTTAGACTACACGCCAGGGCCAACTGACACGGATAAGGTCTTTGCCCCGCAAGTGCTCGCCGAATGTGATTAATCTCAACATTCCGACCTGCAAGAGCACACGCATTTGATATGGGTATAAGGAAGATCTCGTCCAGCTATAATGTACAACATTTCCCCGTCATGACTTGCTACATAAACAGAATAAGACGTGACGTCGCCAATATAAGACGTACTCGATTGACCGTAAAATTTTTCTAAGAACCAAAATAAGACGTAAGACGTTCACTTAAATAAGACGTAGGGCGTTACCGATAAGACGTTAAGACGTGGATCGCCATCGCCCGTGAGTCGCTCTCCCGCATAAGACGTTAAGACGTCCCAATAGTGCTCCCTACACTTTACCGGTGGTAGATAAGACGTAGACGTTATAAGACGTCGGGTAAATATAAGACGTTATTCCCAATAAATAAGACGTAATCCCTGTAACACTGGAAGTGATAAGACGTTTGTTCTAACATAAGACGTTGTAACTGCCCTAACCCTGATAAGACGTTTTAAAAAGTACTATAAGACGTTCGAGGAATGAGACCATAAGACGTCGTCCCTCCCTCAGCACTGAATTTTTTCGAAGATAAGACGTAAGACGTGTTGGTTTATCGTTAGAAATAAGACGTACGTTTATAAGACGTAATGGTCATAAGACGTACGTTAAGACGTAATAAGACGTTATCCATCCCAAAATTACACGTCAGAAATCATGGCAACCGCCGTGATGGAAGAGAGTAGCAACCGACTACATACAGTATACTGTGGGCAGACTCGTTTGTACACCAACACTTCCGCCGCCATTATTAAATACGATTGGTGCTTTACGCATCTTGATGACCATGGTTACTCACCTCGGGTGCTGACCCGCCTGTCTCCTATGACGTCGGGCTCCACTACGGCCCCGTTTCGACAGATAGGGGGGAGTTGACCTCGAATGCGGGTTACTTCGCCTGCCTTTCGACGAATCGGTATGGCTAGCTTGGACAAGTATAGGATTGGTCTTTCAAGCTGCACTGTTTTGCAGCTTCTAGCGAGATAAGGCTGAAGCCTCCAGCGATATTGTCCAGTTGGAAAAAAGTTGGAAAAATGGGGGTTTGGAAAAAAGAAAACGCCCGGGTTACACCGGGGACATAATTGGAAAAAACCAGTTGGAAAAAGCTTAGAAAGCTTGGAAAAAGTCTTGGGAACAATTATTGGAAAAACGATGGGCGACTGAGAGTTGGAAAAAAAAATTGGAAAAATTGGAAAAACGTGGCTTTGGAAAAATGGAAAAAGATTGGAAAAATTGGAAAAACTTTTGGAATTGGAAAAAAAAGCCACTGCGGGTGCTTTGGAAAAAATATTTGGAAAAAACTAGCAAAGCGGCATTCTGAGAGATTGGAAAAACGTGCTAAGCTTCTTTGGAAAAAGAATTGGAAAAAAAAAAGCGCACCACTCAGGAAGACATGTCTGGCACTTTAGCGTTAAAGTTTGGAAAAAACTCCTCCCACATTTGGAAAAATGGAAAAAGAATCGGTTAGAGCGGCACGTGTCATATTGGAAAAATACTCAGCGCGTTAGCAGTTGGAAAAAAATGATGACTATGTTTGGAAGACAAGGAGAAAGTCTCCGAACAACATCCATGACAAGGAGGAGGCTGGACAAGGATTCAGGCTGTTCAGACAAGGAGGGACGACAAGGAAGGACTGTTCAGGCTGGACAAGACAAGGACTGTTGACAAGGACAGGACAAGGACGAAAGGCTGTTCAGGGACAAGGAAGGACAGGCTGTTCAGAGGACGAGGACGACAAGGAAGGCTGTTCAGGCTGTTCAGGAGGACGAGGAAGGATGTTCGACAAGAGGACGACAGGCTAGGACGACGAAGAGGACGACTGTTCAGGCTGTAGGACGAGGACGAAAGGATGTTGACAAGGAGGAGAGGAGGACGAGGAAGGACGAAAGGAGACAAGGAGACAAGGAGACAAGGAAGGACGAAGGACGAAGGACGAAGGACGAAGGACGAAGGACGAAGGACAGAGGACAGGACGACGAAGGACGAAGGACGAAGGACAGGACGAAGGACGAAGGACGAAGGACGACAATCATCAATCATCAATCATCAATCATCAATCATCAATCATCAATCATCAATCATCAATCATCAATCATCAATCATCAATCATCAATCATCAATCATCAATCATCAATCATCAATCATCAATCATCAATCATCAATCATCAATCATCAATCATCAATCATCAATCATCAATCATCAATCATCAATCATCAATCATCAATCATCAATCATCAATCATCAATCATCAATCATCAATCATCAATCATCAATCATCAATCATCAATCAT'"
      ]
     },
     "execution_count": 11,
     "metadata": {},
     "output_type": "execute_result"
    }
   ],
   "source": [
    "import re\n",
    "import string\n",
    "obj_file = open(\"DNA.txt\", \"r\")\n",
    "\n",
    "file = obj_file.read()\n",
    "file = file[:-1]\n",
    "file"
   ]
  },
  {
   "cell_type": "code",
   "execution_count": 12,
   "id": "f212cf44",
   "metadata": {},
   "outputs": [],
   "source": [
    "seq = 'A'\n",
    "def append_n(file,i,n):\n",
    "    return file[i:i+n] #men genrate huruf dari file berdasarkan len() dari huruf yang ingin dicari\n",
    "\n",
    "def remap(file,seq):\n",
    "    return map(lambda x: append_n(file,x,len(seq)), range(len(file) - len(seq)+1)) # me-remap/ membuat ulang list berdasarkan fungsi append sepanjang len() file\n",
    "\n",
    "def count_mer(file,seq):\n",
    "    return r(lambda a,b: a +(1 if b == seq else 0), remap(file,seq),0) # menghitung jumlah isi list yang sama dengan sequence."
   ]
  },
  {
   "cell_type": "code",
   "execution_count": 13,
   "id": "3bf5ea34",
   "metadata": {},
   "outputs": [
    {
     "data": {
      "text/plain": [
       "'T'"
      ]
     },
     "execution_count": 13,
     "metadata": {},
     "output_type": "execute_result"
    }
   ],
   "source": [
    "a = 0\n",
    "append_n(file,a,len(seq)) # Menampilkan cut yang akan ditambahkan sebagai contoh saya buat i = 0 atau list yang menjadi urutan pertama"
   ]
  },
  {
   "cell_type": "markdown",
   "id": "83a159b2",
   "metadata": {},
   "source": [
    "a. A"
   ]
  },
  {
   "cell_type": "code",
   "execution_count": 17,
   "id": "026d796b",
   "metadata": {},
   "outputs": [
    {
     "name": "stdout",
     "output_type": "stream",
     "text": [
      "Jumlah pola A yang terjadi sebanyak :  2112\n"
     ]
    }
   ],
   "source": [
    "seq_A = 'A'\n",
    "print('Jumlah pola A yang terjadi sebanyak : ',count_mer(file,seq_A))"
   ]
  },
  {
   "cell_type": "markdown",
   "id": "31b6d6de",
   "metadata": {},
   "source": [
    "b. AT"
   ]
  },
  {
   "cell_type": "code",
   "execution_count": 18,
   "id": "1eb7d0ce",
   "metadata": {},
   "outputs": [
    {
     "name": "stdout",
     "output_type": "stream",
     "text": [
      "Jumlah pola AT yang terjadi sebanyak :  557\n"
     ]
    }
   ],
   "source": [
    "seq_AT = 'AT'\n",
    "print('Jumlah pola AT yang terjadi sebanyak : ',count_mer(file,seq_AT))"
   ]
  },
  {
   "cell_type": "code",
   "execution_count": 19,
   "id": "d2c1c130",
   "metadata": {},
   "outputs": [
    {
     "name": "stdout",
     "output_type": "stream",
     "text": [
      "Jumlah pola GGT yang terjadi sebanyak :  77\n"
     ]
    }
   ],
   "source": [
    "seq_GGT = 'GGT'\n",
    "print('Jumlah pola GGT yang terjadi sebanyak : ',count_mer(file,seq_GGT))"
   ]
  },
  {
   "cell_type": "code",
   "execution_count": 23,
   "id": "8fe888ab",
   "metadata": {},
   "outputs": [
    {
     "name": "stdout",
     "output_type": "stream",
     "text": [
      "Jumlah pola AAGC yang terjadi sebanyak :  22\n"
     ]
    }
   ],
   "source": [
    "seq_AAGC = 'AAGC'\n",
    "print('Jumlah pola AAGC yang terjadi sebanyak : ',count_mer(file,seq_AAGC))"
   ]
  },
  {
   "cell_type": "code",
   "execution_count": 22,
   "id": "ed13d4c4",
   "metadata": {},
   "outputs": [
    {
     "name": "stdout",
     "output_type": "stream",
     "text": [
      "Jumlah pola AGCTA yang terjadi sebanyak :  5\n"
     ]
    }
   ],
   "source": [
    "seq_AGCTA = 'AGCTA'\n",
    "print('Jumlah pola AGCTA yang terjadi sebanyak : ',count_mer(file,seq_AGCTA))"
   ]
  },
  {
   "cell_type": "markdown",
   "id": "59569f1e",
   "metadata": {},
   "source": [
    "c, d, e"
   ]
  },
  {
   "cell_type": "code",
   "execution_count": 56,
   "id": "a3aa4034",
   "metadata": {},
   "outputs": [],
   "source": [
    "seq = 'GGT'\n",
    "def append_n(file,i,n):\n",
    "    return file[i:i+n] #men genrate huruf dari file berdasarkan len() dari huruf yang ingin dicari\n",
    "\n",
    "def remap(file,seq):\n",
    "    return map(lambda x: append_n(file,x,len(seq)), range(len(file) - len(seq)+1)) # me-remap/ membuat ulang list berdasarkan fungsi append sepanjang len() file\n",
    "\n",
    "def count_mer(file,seq):\n",
    "    return r(lambda a,b: a +(1 if b == seq else 0), remap(file,seq),0) # menghitung jumlah isi list yang sama dengan sequence."
   ]
  },
  {
   "cell_type": "code",
   "execution_count": 57,
   "id": "e9807983",
   "metadata": {},
   "outputs": [
    {
     "data": {
      "text/plain": [
       "'TGT'"
      ]
     },
     "execution_count": 57,
     "metadata": {},
     "output_type": "execute_result"
    }
   ],
   "source": [
    "a = 0\n",
    "append_n(file,a,len(seq)) # Menampilkan cut yang akan ditambahkan sebagai contoh saya buat i = 0 atau list yang menjadi urutan pertama"
   ]
  },
  {
   "cell_type": "code",
   "execution_count": 58,
   "id": "1c84a808",
   "metadata": {},
   "outputs": [
    {
     "data": {
      "text/plain": [
       "[77, 23, 5]"
      ]
     },
     "execution_count": 58,
     "metadata": {},
     "output_type": "execute_result"
    }
   ],
   "source": [
    "seq_c_d_e = ['GGT','AACG','AGCTA']\n",
    "\n",
    "def count_all(file,seq):\n",
    "    return map(lambda x: count_mer(file,x), seq) #sama seperti count_mer tetapi ini dapat dilakukan untuk lebih dari 1 jenis sequence\n",
    "\n",
    "list(count_all(file,seq_c_d_e))"
   ]
  },
  {
   "cell_type": "markdown",
   "id": "8fa33819",
   "metadata": {},
   "source": [
    "5. Reverse complement dari suatu sequence string DNA memiliki aturan sebagai berikut:\n",
    "A. adalah komplemen dari T\n",
    "C.adalah komplemen dari G\n",
    "Contoh reverse complement:\n",
    "input DNA : ACTGA\n",
    "Reverse complmenet : TGACT\n",
    "Buatlah fungsi untuk mencari inverse komplemen dari data pada nomor 4 !"
   ]
  },
  {
   "cell_type": "code",
   "execution_count": 24,
   "id": "59243b07",
   "metadata": {},
   "outputs": [],
   "source": [
    "def komplemen(x):\n",
    "    return {'A':'T', 'T':'A', 'C':'G', 'G':'C'}.get(x) # Mencari dan mendaptkan value yang sesuai pada directory\n",
    "\n",
    "def reverse_kom(file):\n",
    "    return map(lambda x:komplemen(x), file)# membuat ulang list (map()) yang telah di tukar valuenya sesuai dengan yang ada pada fungsi komplemen(x)"
   ]
  },
  {
   "cell_type": "code",
   "execution_count": 25,
   "id": "3aa3182f",
   "metadata": {},
   "outputs": [
    {
     "name": "stdout",
     "output_type": "stream",
     "text": [
      "A C A G A A G G C C G A C T C G C C A A G G A T T G G T C G T C T G A C T A T G A C C A G C T T A T A G C T G C C C G T T C T C G G G A C C C T A A C T A C G C A A A G T G G T A C G C G C A G A G T C A C G T C C G T C C T T A C G T C T C G A A T G A A G T T T G A T C A A T G A C C G T T T T T T A T G T T T A A A A A A G C T A G C T G G A A C T C A A A T A A G T A A T G G C G T G T C A G A A A A T G G C G T G G A C A A T G G C G T G T A G G C A T T C A A A T G G C G T G C A A T G G C G T G A T G G A G A G A T A T A A T G G C G T G A A G C A A A T G G C G T G C G A C T C C T T G C C A A T G G C G T G A A T G G C G T G G T G T T C C A C G C A C G A G A C A A T A A T G G C G T G G T G G T A A T G G C G T G C G T G A A A A T A A T G G C G T G G T C C C G T G T C G G T G C A T C C C A T C G C A G C A A G A G T G A C A T A A C G C C G C T G C C A G C A T T A A A T G G C G T A A T G G C G T G G T G A G C A A T C G A A T G G C G T G G A T C C C A A C A A T G G C G T G C T G A A T G G C G T G T C G G C A A T G G C G T G C A C A A T G A A C T G C G A G A T T G A G G G T G A G T A T A G T C A G A A T A A T G G C G T G T G A C C C G A A T G G C G T G G G C G T G G A A T T C A T C C G T C A A T G G C G T G C A T A A T G G C G T G C A T T A A T G G C G T G T G G A C A T T T C C G T C C C A T T T C A T G T C T G A A T G G C G A A T G G C G T G C C A A C G T G G T G C T G T T T A G A T T G C A A T C C A T G C A A T G G C G T G C C C T T T A A T G G C G T G A G G T C C C A A A A T G G C G T G T C T A T A G G T A A G C C C T T A C A C T G G G G A C C T C A C C T C A A C A C G C T T T C T A T G C C T C A A A A G T T C C C G T G T G G G T C G A T A C A A T A A T T C G C A A T G T C A C C G G C G A C G T A G T A C A G T T A C A A G T C C A G T A A G A G A T A G A A C G A T A C A T G C T T G G G A G C A A T T C T C C C T C A T T C G C T A G A A A A C T G T T T T A G C A T A C G T A C A T C C G C T C C G T T A C G G C T A A T G T A A C T T G C C G C C C T G A A A A G C A T A C T C T G T G G C G C C A A C T T T A T A A A A A A A T A C G T T C T C G C C C T A A C C C G C C T T C C T C T G A A T T G C G T C A C G G A T C G T G A C A A T T G A C G C C G T A C C G G C C T A C C T G A T G G A T A A A A C G T C G A G G T C G C A A A C T C A A G G T G C A T G A C T G C C T T G T C A G G G C T C T A T C C G G T A C A C C A G C T A G G G T C A C T C T T T A C T C T G A G C T C T A C G G C C A T G G C C A T C G T A G T G G T G T A A C G A G G T C A T A C T A T A G T C A G A A G T G A C A G T C G T T A A T T A C G T C G C T A G A A C T T C T C T C A A T A A G T A G A G A A T A G T G G A C T G T T A T T T A G T T A A A T G G T C A G T T T A A G A G A A A T T G T A G C A C G G C T T G A C G C T A C G C A G C A T C A G A T C T A A T C C T A T A T A A A A G A A T C G A C C G A A G C T A C T A A C C G A C A T G C G A T T C C A C T A A C T T A A A G C T A G A C G T A A C C T C G A C A T G G G G T G G A A C G T A C C G T A A C T G T C G G A T T T C G C A C T T C T T A C G T T A T G T C G A C T G T C T T T T T A T T G C C C G A G C T A T T G C A A G G T T C T A A G A C T G A A T T G C T G C C G A T C G C T C G C T C A G T A T T T A G G G C A G G T G T G G C C C G T T A G C C C A G C C T C A C C T T T C C C G C C C T A A A A T A A T A A T G C A C T G C G T C T A G A G G C A C A G T G A T A T G A G T G T A G G A G A G A C A T C T A T T T C A A T A T G G T T G G A G G T A T A A G A A G A A T G C G A T T C A A G C C C G A T A G G C T C A G A G C C G G G T A T C G T C C T C G T G A A A T T C C C T T C A G G A T A A C G G C T T A T G T C A T G C A A G G G G C G T T A T A C A A T A T G A G T G G G T T T A T A C A A T T A T A C A A T A T A C A A T T T T G C G T C A C A C C C T T A T A C A A T T A T A C A A T A C A C T T A T A C A A T T T T A T A C A A T T T T A T A C A A T T G C T A C A A T C G G C A C T A T T T A T A C A A T A A T T G C C G C A C G C A A T T A T A C A A T C G C T G C T G A C C C C C A G T T A T A C A A T C G G T T G A A G G A G T T A T A C A A T T G G C C A A T T A T A C A A T C A A T T C T A G T T A T T T A T A C A A T C G A T G C A T C T G T T A T T T T C G T A T T C G T T A T A C A A T A T T A T A C A A T C T G T C A A G A G A T T G G C T A T T A T A C A A T T C C G T A T G A A T T G G T C G C T T A C T G T C T T T A T A C A A T T A T A C A A T T T A T T T A T A C A A T C T A T T A T A C A A T G C T A T A A T G G G C G T G T A A C G A G G C T T A T A C T T A T A C A A T T C C A C C A A G A G G C A T A A A T T A T A A C A C T C T C T A T C G A A C A C T C T C T A C A A C A A C A C T C T C T C G A C A C T C T C G A A A C G C T C G G A A A T T T A T A A C A C T C T C A A T A C A T C A G C C G G A C A C T C T C T A C A C A C T C T C T C A A T T T A T A C A A T C A A T C G A C T C T C G A T G C G A C A C T C T C C G C T T A A C T G C A T C A C G A A A A A C A A G A C A C T C T C T A C A C A C T C T C A C A C T C T C G C G C A C A C T C A C A C T C T C A C T A A C A C G T A C C A G G T C A T T C T A C A C T C T C A C A C T C T C A C T A G A T T G C G A T A C A C A C T C T C T C C C A C A C T C T C C G A C G C A T A C T T C G T G T T T A C A C T C T C A A C A C T C T C T A T G C A A T T C T C G G G C C T T C G A G C C G T A G T A T T C G A C T C G T C T A A G T T A C A C T C T C C C G C T C G G C T G C C A T C C G A C A C T C T C A G T A A T A A C A C T C T C A G C G C A C C A C A C T C T C A G G G T A A A A T A C A C T C T A C A C T C T C G A G A C C C C G A C A C T A C A C T C T C T C A T G C G G C T T C G C A C A C T C T C A G G A C A C T C T C T A A G C C T C C A G A C C T A C T G T A A C A C T C T C G G A C G A A T G C G C T G C A C T A C T T G C G C T G G C T G A T C G C T G G C G G G T G A T G A T G A G C G T C A A C C A G A T C T C C G T A A C G A A A T G A C T T T A T G C G T C C T A C G A A T A C T G C G A G C G C G G T T A T G T A G C G C G A G C G T G A C A T A C A G C G A A G T G G A A T T A G G A T T T C G A G T T T A T A T T G C C T T T T T C T C T T T A A T C C T G C T G G C T C C C A G C A G G A G G C C A C C A A A A G T G C T G A A G C G G T T A C C G C A C G A C G C A G C T T T A C A C G A G T T T C G G G G C A T T T C G A G T C T G T G G T A C G T C C T T A C C C T T A C A C A T G G G T C T C T A G G G A T C A T T C T C T C T A G G T T C T G A A T T T C G G C A A G G C T C T C T C T A G A T T A G T G A T C T C T A G A A T T G T G G T T A T C T C T A G G A G A T T C T C T A G T C A T C T C T A G C G A A A A G T C T C T A T C T C T A G T G A G T G G C T C T C T A G A A T G T C A A A C T A T A C A G T C A A G C C A A T T T T C G T C T C T A G C A G A C G T C T C T A G C C A T C G C A T C T C T A G G G C A C A G C A T G T T T T T G A A T C T C T A G T C T A G C G C G G A G C T T G A C A T G A A T C T C T A G A T G T A A T A G A T T C T C T C T C T A G T C T C T A G T G T T C C G G T G T G T G C T G T T T C A A T C T C T A G A T G T G T G C T A T C C A C C A C G G C T T G G A C T C T C T A G G C C C A A A A C T C T C T C T A G T T C T C T A T C T C T A G C A A T C T C T T C T C T A G A T C T C T A G C G T G C C C A A A A C C T C T C T A G C A A G C C C A A A A C A G C C C T T C T C T A A T T A C G C C A C T C A A T T A C G C C C A T A T T A C G C C G T C T A T T A C A T T A C G C C A G A T T A C A T T A C G C C C T C T A T T A C G C C A C T A C T T T G A A T T A C G C C G A T T A C G C C A A T T A C G C C A G C T T G C G A T T A C G C C T C G A T T A C G C C C G C A T T G T A T T A C A T T A C G C C A A C A G T T A T A A C A A A A G T T A T A A T T A T A A G T T A A T G T T A T A A G T T T G C G T T A T A A T T T G C C G G C C A T T A C G C C C C A G T T A G T T A T A A A A G C A T T A C G C C C C A A T T A C G C C A A A A G T T A T A A T A G C C A T T A C G C C C T C G A C C G T T A T A A C C A A A A C C A T T A C G C C A A A T T A T T A C G C C C C G C T G T T A T A A C C C A T T A C G C C T A T A A A T A G T T A T A A C A C A A A G T T A T A A A T T G T G T T A T A A A C G G C A T C C A T A C T G G A T T A A T T A C G C C T A T A A T C C C C G G T T A A T T A C G C C T A G C A T T A C G C C C A G C C C G A A T A T T G T T A A T T A C G C C A G T T A T A A T G A T T A C G A T T A C G C C G C C T G A T G T T A T A A A T G T T T T C T G A T G G T T A T T A C G C C T A T T A C G C C A G T T A T T A C G C C T T C T A T T G C G C C G T T A T A A C G G G C T G T T A T A A A C T G A T G T G T T C T G A T G T G T T A T A A G G C A A T A A G A C A C G G T T G C G G T C C A G T T A C G C A G C T T G G T T A T A A G A A C T A A C A C T A C G T C T G A T G T G C T G A T G T T A T A A A T G G G G G C C C T G A T G T A T A G G T G C T G A T G T C C C G C T C T G A T G T A T C C C T G A T G T C T G A T G T T G T T A A T A C C A G T G T A A T T G A G A C G G G C C G C C G A G A A G G G A T T T A G A G T G C A C T A C C T G A T C T G A T G T G G C T G A T G T T G T A T G A A A C G T T G C T G A T G T C A T G C A A T T C T G A T G T C C T A A G T C T G A T G T G A A C T A A A G G A C T G A T G T G A A G A C T G T T G G G C G T G T A A C G G G C G A T T G A G A C T A C C G G G G G T C T C T G A T G T A T G G T A G C T C G C G C T G A T G T C C T G A T G T C G G C A T C T G G G A A A T C T G A T G T G C G G T C C C G G T T G A C T G T G C C T A T T C C A G A A A C G G G G C G T T C A C G A G C G G C T T A C A C T A A T T A G A G T T G T A A G G C T G G A C G T T C T C G T G T G C G T A A A C T A T A C C C A T A T T C C T T C T A G A G C A G G T C G A T A T T A C A T G T T G T A A A G G G G C A G T A C T G A A C G A T G T A T T T G T C T T A T T C T G C A C T G C A G C G G T T A T A T T C T G C A T G A G C T A A C T G G C A T T T T A A A A A G A T T C T T G G T T T T A T T C T G C A T T C T G C A A G T G A A T T T A T T C T G C A T C C C G C A A T G G C T A T T C T G C A A T T C T G C A C C T A G C G G T A G C G G G C A C T C A G C G A G A G G G C G T A T T C T G C A A T T C T G C A G G G T T A T C A C G A G G G A T G T G A A A T G G C C A C C A T C T A T T C T G C A T C T G C A A T A T T C T G C A G C C C A T T T A T A T T C T G C A A T A A G G G T T A T T T A T T C T G C A T T A G G G A C A T T G T G A C C T T C A C T A T T C T G C A A A C A A G A T T G T A T T C T G C A A C A T T G A C G G G A T T G G G A C T A T T C T G C A A A A T T T T T C A T G A T A T T C T G C A A G C T C C T T A C T C T G G T A T T C T G C A G C A G G G A G G G A G T C G T G A C T T A A A A A A G C T T C T A T T C T G C A T T C T G C A C A A C C A A A T A G C A A T C T T T A T T C T G C A T G C A A A T A T T C T G C A T T A C C A G T A T T C T G C A T G C A A T T C T G C A T T A T T C T G C A A T A G G T A G G G T T T T A A T G T G C A G T C T T T A G T A C C G T T G G C G G C A C T A C C T T C T C T C A T C G T T G G C T G A T G T A T G T C A T A T G A C A C C C G T C T G A G C A A A C A T G T G G T T G T G A A G G C G G C G G T A A T A A T T T A T G C T A A C C A C G A A A T G C G T A G A A C T A C T G G T A C C A A T G A G T G G A G C C C A C G A C T G G G C G G A C A G A G G A T A C T G C A G C C C G A G G T G A T G C C G G G G C A A A G C T G T C T A T C C C C C C T C A A C T G G A G C T T A C G C C C A A T G A A G C G G A C G G A A A G C T G C T T A G C C A T A C C G A T C G A A C C T G T T C A T A T C C T A A C C A G A A A G T T C G A C G T G A C A A A A C G T C G A A G A T C G C T C T A T T C C G A C T T C G G A G G T C G C T A T A A C A G G T C A A C C T T T T T T C A A C C T T T T T A C C C C C A A A C C T T T T T T C T T T T G C G G G C C C A A T G T G G C C C C T G T A T T A A C C T T T T T T G G T C A A C C T T T T T C G A A T C T T T C G A A C C T T T T T C A G A A C C C T T G T T A A T A A C C T T T T T G C T A C C C G C T G A C T C T C A A C C T T T T T T T T T A A C C T T T T T A A C C T T T T T G C A C C G A A A C C T T T T T A C C T T T T T C T A A C C T T T T T A A C C T T T T T G A A A A C C T T A A C C T T T T T T T T C G G T G A C G C C C A C G A A A C C T T T T T T A T A A A C C T T T T T T G A T C G T T T C G C C G T A A G A C T C T C T A A C C T T T T T G C A C G A T T C G A A G A A A C C T T T T T C T T A A C C T T T T T T T T T T C G C G T G G T G A G T C C T T C T G T A C A G A C C G T G A A A T C G C A A T T T C A A A C C T T T T T T G A G G A G G G T G T A A A C C T T T T T A C C T T T T T C T T A G C C A A T C T C G C C G T G C A C A G T A T A A C C T T T T T A T G A G T C G C G C A A T C G T C A A C C T T T T T T T A C T A C T G A T A C A A A C C T T C T G T T C C T C T T T C A G A G G C T T G T T G T A G G T A C T G T T C C T C C T C C G A C C T G T T C C T A A G T C C G A C A A G T C T G T T C C T C C C T G C T G T T C C T T C C T G A C A A G T C C G A C C T G T T C T G T T C C T G A C A A C T G T T C C T G T C C T G T T C C T G C T T T C C G A C A A G T C C C T G T T C C T T C C T G T C C G A C A A G T C T C C T G C T C C T G C T G T T C C T T C C G A C A A G T C C G A C A A G T C C T C C T G C T C C T T C C T A C A A G C T G T T C T C C T G C T G T C C G A T C C T G C T G C T T C T C C T G C T G A C A A G T C C G A C A T C C T G C T C C T G C T T T C C T A C A A C T G T T C C T C C T C T C C T C C T G C T C C T T C C T G C T T T C C T C T G T T C C T C T G T T C C T C T G T T C C T T C C T G C T T C C T G C T T C C T G C T T C C T G C T T C C T G C T T C C T G C T T C C T G T C T C C T G T C C T G C T G C T T C C T G C T T C C T G C T T C C T G T C C T G C T T C C T G C T T C C T G C T T C C T G C T G T T A G T A G T T A G T A G T T A G T A G T T A G T A G T T A G T A G T T A G T A G T T A G T A G T T A G T A G T T A G T A G T T A G T A G T T A G T A G T T A G T A G T T A G T A G T T A G T A G T T A G T A G T T A G T A G T T A G T A G T T A G T A G T T A G T A G T T A G T A G T T A G T A G T T A G T A G T T A G T A G T T A G T A G T T A G T A G T T A G T A G T T A G T A G T T A G T A G T T A G T A G T T A G T A G T T A G T A G T T A G T A G T T A G T A G T T A G T A G T T A G T A G T T A G T A G T T A G T A G T T A G T A\n"
     ]
    }
   ],
   "source": [
    "res = reverse_kom(file)\n",
    "print(*res)"
   ]
  },
  {
   "cell_type": "code",
   "execution_count": 26,
   "id": "7ce8760d",
   "metadata": {},
   "outputs": [
    {
     "name": "stdout",
     "output_type": "stream",
     "text": [
      "T G A C T\n"
     ]
    }
   ],
   "source": [
    "DNA = 'ACTGA'\n",
    "res1 = reverse_kom(DNA)\n",
    "print(*res1)"
   ]
  },
  {
   "cell_type": "markdown",
   "id": "0d91f0c8",
   "metadata": {},
   "source": [
    "6. Nomor 6"
   ]
  },
  {
   "cell_type": "code",
   "execution_count": 61,
   "id": "950e03f9",
   "metadata": {},
   "outputs": [],
   "source": [
    "import math\n",
    "\n",
    "def aktivasi(x): # Rumus mendapatkan nilai aktivasi A dan Z\n",
    "    return 1/(1+ math.exp(-x))\n",
    "\n",
    "def WTi(W,i):\n",
    "    return list(map(lambda w:w[i], W))\n",
    "\n",
    "def WT(W):\n",
    "    return list(map(lambda i: WTi(W,i), range(len(W[0])))) #Membuat list baru yg berisi W ke 1 dan juga W ke 2 yang nantinya akan di kalikan ke X1,X2,X3\n",
    "\n",
    "def XW(X,W):\n",
    "    return map(lambda w: r(lambda a,b:a+b , map(lambda xx,ww: xx * ww, X,w),0), WT(W)) # Digunakan Untuk mencari S1, S2, dan Z1\n",
    "\n",
    "def input_to_hidden(X,W):\n",
    "    return list(map(lambda x:aktivasi(x), XW(X,W))) #Mendapatkan nilai A1 dan A2 setelah didaptannya nilai S1 dan S2\n",
    "\n",
    "def feed_forward(X,W,M):\n",
    "    return input_to_hidden(input_to_hidden(X,W),M) #Mendaptkan hasil Y dengan Z dicari dengan Fungsi XW"
   ]
  },
  {
   "cell_type": "code",
   "execution_count": 62,
   "id": "e0f85b1c",
   "metadata": {},
   "outputs": [
    {
     "data": {
      "text/plain": [
       "[0.6876336740661236]"
      ]
     },
     "execution_count": 62,
     "metadata": {},
     "output_type": "execute_result"
    }
   ],
   "source": [
    "X = [9, 10, -4]\n",
    "W = [[0.5,0.4],[0.3,0.7],[0.25,0.9]]\n",
    "M = [[0.34],[0.45]]\n",
    "\n",
    "feed_forward(X,W,M)"
   ]
  },
  {
   "cell_type": "code",
   "execution_count": 69,
   "id": "de42eefb",
   "metadata": {},
   "outputs": [
    {
     "data": {
      "text/plain": [
       "[0.998498817743263, 0.9990889488055994]"
      ]
     },
     "execution_count": 69,
     "metadata": {},
     "output_type": "execute_result"
    }
   ],
   "source": [
    "A12 = input_to_hidden(X,W) # nilai aktivasi A1 dan A2\n",
    "A12"
   ]
  },
  {
   "cell_type": "code",
   "execution_count": 64,
   "id": "367a2efd",
   "metadata": {},
   "outputs": [
    {
     "data": {
      "text/plain": [
       "[6.5, 7.0]"
      ]
     },
     "execution_count": 64,
     "metadata": {},
     "output_type": "execute_result"
    }
   ],
   "source": [
    "list(XW(X,W)) #Menghitung Nilai S1 dan S2"
   ]
  },
  {
   "cell_type": "code",
   "execution_count": 65,
   "id": "db0543a8",
   "metadata": {},
   "outputs": [
    {
     "data": {
      "text/plain": [
       "[[0.5, 0.3, 0.25], [0.4, 0.7, 0.9]]"
      ]
     },
     "execution_count": 65,
     "metadata": {},
     "output_type": "execute_result"
    }
   ],
   "source": [
    "WT(W) # hasil transformasi W1,2,3(1) dan W1,2,3(2)"
   ]
  },
  {
   "cell_type": "code",
   "execution_count": 71,
   "id": "e5ed03cc",
   "metadata": {},
   "outputs": [
    {
     "data": {
      "text/plain": [
       "[0.5, 0.3, 0.25]"
      ]
     },
     "execution_count": 71,
     "metadata": {},
     "output_type": "execute_result"
    }
   ],
   "source": [
    "WTi(W,0)"
   ]
  },
  {
   "cell_type": "code",
   "execution_count": null,
   "id": "2d9a56a4",
   "metadata": {},
   "outputs": [],
   "source": []
  }
 ],
 "metadata": {
  "kernelspec": {
   "display_name": "Python 3 (ipykernel)",
   "language": "python",
   "name": "python3"
  },
  "language_info": {
   "codemirror_mode": {
    "name": "ipython",
    "version": 3
   },
   "file_extension": ".py",
   "mimetype": "text/x-python",
   "name": "python",
   "nbconvert_exporter": "python",
   "pygments_lexer": "ipython3",
   "version": "3.9.7"
  }
 },
 "nbformat": 4,
 "nbformat_minor": 5
}
